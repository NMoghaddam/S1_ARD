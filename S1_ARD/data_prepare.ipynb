{
 "cells": [
  {
   "cell_type": "markdown",
   "metadata": {
    "collapsed": true
   },
   "source": [
    "# install the current pyroSAR development branch\n",
    "\n",
    "```shell\n",
    "sudo apt-get install git\n",
    "python -m pip install git+https://github.com/johntruckenbrodt/pyroSAR.git@feature/auxdatahandler\n",
    "```"
   ]
  },
  {
   "cell_type": "markdown",
   "metadata": {},
   "source": [
    "# prepare several DEM files in Gamma format for a Sentinel-1 scene\n",
    "\n",
    "documentation:\n",
    "- [pyroSAR.identify](https://pyrosar.readthedocs.io/en/latest/pyroSAR.html#pyroSAR.drivers.identify)\n",
    "- function dem_autocreate is not documented on readthedocs yet, but a docstring can be called in Python: `help(dem_autocreate)`\n",
    "- the download of TanDEM-X 90m DEMs requires a registration, see [here](https://geoservice.dlr.de/web/dataguide/tdm90) for details; once registered the credentials can be passed to function dem_autocreate; for the other DEM options they are ignored"
   ]
  },
  {
   "cell_type": "code",
   "execution_count": null,
   "metadata": {},
   "outputs": [],
   "source": [
    "import os\n",
    "from pyroSAR import identify\n",
    "from pyroSAR.gamma.srtm import dem_autocreate\n",
    "\n",
    "filename = 'S1A_IW_GRDH_1SDV_20150426T190111_20150426T190136_005659_00741C_FFB7.zip'\n",
    "\n",
    "outdir = ''\n",
    "\n",
    "id = identify(filename)\n",
    "\n",
    "demfiles = {}\n",
    "for demType in ['AW3D30', 'SRTM 1Sec HGT', 'SRTM 3Sec', 'TDX90m']:\n",
    "    dem_id = demType.replace(' ', '-')\n",
    "    dem_base = 'demfile_gamma_{}'.format(dem_id)\n",
    "    dem = os.path.join(outdir, dem_base)\n",
    "    print(demType)\n",
    "    with id.bbox() as bbox:\n",
    "        dem_autocreate(geometry=bbox, demType=demType, outfile=dem, \n",
    "                       username='username', password='password')\n",
    "    demfiles[dem_id] = dem"
   ]
  },
  {
   "cell_type": "markdown",
   "metadata": {},
   "source": [
    "# process the scene with the different DEMs\n",
    "\n",
    "documentation:\n",
    "- [pyroSAR.gamma.geocode](https://pyrosar.readthedocs.io/en/latest/pyroSAR.html#pyroSAR.gamma.geocode)"
   ]
  },
  {
   "cell_type": "code",
   "execution_count": null,
   "metadata": {},
   "outputs": [],
   "source": [
    "from pyroSAR.gamma import geocode\n",
    "\n",
    "# parallelize the Gamma commands\n",
    "os.environ['OMP_NUM_THREADS'] = '6'\n",
    "\n",
    "for dem_id, dem_file in demfiles.items():\n",
    "    scenedir = os.path.join(outdir, '{}_{}'.format(id.outname_base(), dem_id))\n",
    "    geocode(scene=id, dem=dem_file,\n",
    "            tempdir=os.path.join(scenedir, 'process'), outdir=scenedir,\n",
    "            targetres=90, scaling='db')"
   ]
  }
 ],
 "metadata": {
  "kernelspec": {
   "display_name": "Python 2",
   "language": "python",
   "name": "python2"
  },
  "language_info": {
   "codemirror_mode": {
    "name": "ipython",
    "version": 2
   },
   "file_extension": ".py",
   "mimetype": "text/x-python",
   "name": "python",
   "nbconvert_exporter": "python",
   "pygments_lexer": "ipython2",
   "version": "2.7.15rc1"
  }
 },
 "nbformat": 4,
 "nbformat_minor": 1
}
