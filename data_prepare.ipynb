{
 "cells": [
  {
   "cell_type": "markdown",
   "metadata": {},
   "source": [
    "# Table Of Content\n",
    "- [installation of dependencies](#install_deps)  \n",
    "- [installation of main package](#install_main)  \n",
    "- [starting the notebook](#start)  \n",
    "- [download test data](#download)  \n",
    "- [DEM preparation](#demprep)  \n",
    "  * [GAMMA](#demprep_gamma)  \n",
    "  * [SNAP](#demprep_snap)\n",
    "- [Processing](#proc) \n",
    "  * [GAMMA](#proc_gamma)  \n",
    "  * [SNAP](#proc_snap)  \n",
    "- [CORINE preparation](#corine)  \n",
    "- [Comparison of backscatter with local angle of incidence](#sar_inc)  \n",
    "  * [GAMMA](#sar_inc_gamma)  \n",
    "  * [SNAP](#sar_inc_snap)  \n",
    "- [DEM comparison](#dem_compare)  \n",
    "  * [Computate Slope and Aspect](#slope_aspect)  \n",
    "  * [Analysis of DEM Slope-Aspect Distribution](#dem_distribution) \n",
    "  * [DEM absolute difference maps](#dem_diff) \n",
    "- [Todo](#todo) "
   ]
  },
  {
   "cell_type": "markdown",
   "metadata": {},
   "source": [
    "# prerequisites\n",
    "In some of the following cells directories and files are going to be created. The currect structure is organized such that a main directory exists in which the sub-directories and files are stored.  \n",
    "Files specific to a Sentinel-1 scene will contain a unique prefix in their name, which consists of the sensor identifier, the acquisition mode, the orbit and the acquisition start time.  \n",
    "The code directory can be used to clone the GitHub repository ( see later step).  \n",
    "The following describes an exemplary structure with directories in bold letters.  \n",
    "* **S1_ARD**\n",
    "  * **data**\n",
    "    * **CORINE**\n",
    "      * e.g. ```clc2018_clc2018_V2018.20b2.tif```\n",
    "    * **DEM**\n",
    "      * e.g. ```S1A__IW___A_20180829T170656_dem_gamma_AW3D30```\n",
    "    * **GAMMA**\n",
    "      * **e.g. ```S1A__IW___A_20180829T170656_AW3D30```**\n",
    "        * e.g. ```S1A__IW___A_20180829T170656_VV_grd_mli_norm_geo_db.tif```\n",
    "    * **SNAP**\n",
    "      * **e.g. ```S1A__IW___A_20180829T170656_AW3D30```**\n",
    "        * e.g. ```S1A__IW___A_20180829T170656_VV_bnr_Orb_Cal_TF_TC_dB.tif```\n",
    "    * e.g. ```S1A_IW_GRDH_1SDV_20180829T170656_20180829T170721_023464_028DE0_F7BD.zip```\n",
    "  * **code**\n",
    "    * **.git**\n",
    "    * **S1_ARD**\n",
    "    * data_prepare.ipynb\n",
    "    * .."
   ]
  },
  {
   "cell_type": "markdown",
   "metadata": {
    "collapsed": true
   },
   "source": [
    "<a id='install_deps'></a>\n",
    "# install the current spatialist and pyroSAR development branches\n",
    "\n",
    "```shell\n",
    "# install git for package versioning\n",
    "sudo apt-get install git\n",
    "\n",
    "# uninstall in case the packages have been installed before\n",
    "python -m pip uninstall spatialist pyroSAR\n",
    "\n",
    "# install the latest package development versions\n",
    "python -m pip install git+https://github.com/johntruckenbrodt/spatialist.git@master\n",
    "python -m pip install git+https://github.com/johntruckenbrodt/pyroSAR.git@master\n",
    "```"
   ]
  },
  {
   "cell_type": "markdown",
   "metadata": {},
   "source": [
    "<a id='install_main'></a>\n",
    "# install/update the S1_ARD package\n",
    "\n",
    "```shell\n",
    "# change to the code sub-directory\n",
    "cd code\n",
    "\n",
    "# (first start only) clone the GitHub repository\n",
    "git clone https://github.com/johntruckenbrodt/S1_ARD.git\n",
    "\n",
    "# change into the cloned directory\n",
    "cd S1_ARD\n",
    "\n",
    "# update the project if it has been cloned before\n",
    "git pull\n",
    "\n",
    "# install additional dependencies\n",
    "python -m pip install -r requirements.txt\n",
    "\n",
    "# add the code location to the PATH environment\n",
    "export PATH=$PATH:$(pwd)\n",
    "\n",
    "# change back to main dir\n",
    "cd ../..\n",
    "```\n",
    "## Note\n",
    "For convenience the code location is best permanently added to the PATH environment by adding a line to the .bashrc file:\n",
    "```shell\n",
    "export PATH=$PATH:/path/to/S1_ARD/code\n",
    "```"
   ]
  },
  {
   "cell_type": "markdown",
   "metadata": {},
   "source": [
    "<a id='start'></a>\n",
    "# starting the notebook\n",
    "\n",
    "```shell\n",
    "# first start jupyter and then select the notebook from the browser menu\n",
    "jupyter notebook\n",
    "```"
   ]
  },
  {
   "cell_type": "markdown",
   "metadata": {},
   "source": [
    "<a id='download'></a>\n",
    "# download test data\n",
    "\n",
    "```shell\n",
    "# change to the data directory\n",
    "cd data\n",
    "\n",
    "wget -c -T120 --no-check-certificate --user=\"username\" --password=\"password\" \\\n",
    "-O S1A_IW_GRDH_1SDV_20180829T170656_20180829T170721_023464_028DE0_F7BD.zip \\\n",
    "\"https://scihub.copernicus.eu/dhus/odata/v1/Products('1d498b6b-f890-4c3f-a30e-877338e9f2fe')/\\$value\"\n",
    "```"
   ]
  },
  {
   "cell_type": "markdown",
   "metadata": {},
   "source": [
    "# define the working directory and identify the SAR scene"
   ]
  },
  {
   "cell_type": "code",
   "execution_count": null,
   "metadata": {},
   "outputs": [],
   "source": [
    "maindir = '/home/john/Desktop/S1_ARD/data'\n",
    "\n",
    "import os\n",
    "from pyroSAR import identify\n",
    "\n",
    "filename = os.path.join(maindir, 'S1A_IW_GRDH_1SDV_20180829T170656_20180829T170721_023464_028DE0_F7BD.zip')\n",
    "\n",
    "id = identify(filename)\n",
    "\n",
    "print(id)"
   ]
  },
  {
   "cell_type": "markdown",
   "metadata": {},
   "source": [
    "<a id='demprep'></a>\n",
    "# DEM preparation"
   ]
  },
  {
   "cell_type": "markdown",
   "metadata": {},
   "source": [
    "<a id='demprep_gamma'></a>\n",
    "## DEM preparation: GAMMA\n",
    "\n",
    "documentation:\n",
    "- [pyroSAR.identify](https://pyrosar.readthedocs.io/en/latest/pyroSAR.html#pyroSAR.drivers.identify)\n",
    "- function dem_autocreate is not documented on readthedocs yet, but a docstring can be called in Python: `help(dem_autocreate)`\n",
    "- the download of TanDEM-X 90m DEMs requires a registration, see [here](https://geoservice.dlr.de/web/dataguide/tdm90) for details; once registered the credentials can be passed to function dem_autocreate; for the other DEM options they are ignored"
   ]
  },
  {
   "cell_type": "code",
   "execution_count": null,
   "metadata": {},
   "outputs": [],
   "source": [
    "from pyroSAR.gamma.srtm import dem_autocreate\n",
    "\n",
    "demfiles_gamma = {}\n",
    "for demType in ['AW3D30', 'SRTM 1Sec HGT', 'SRTM 3Sec', 'TDX90m']:\n",
    "    dem_id = demType.replace(' ', '-')\n",
    "    dem_base = '{}_dem_gamma_{}'.format(id.outname_base(), dem_id)\n",
    "    dem_dir = os.path.join(maindir, 'DEM')\n",
    "    if not os.path.isdir(dem_dir):\n",
    "        os.makedirs(dem_dir)\n",
    "    dem = os.path.join(dem_dir, dem_base)\n",
    "    print(demType)\n",
    "    with id.bbox() as bbox:\n",
    "        dem_autocreate(geometry=bbox, \n",
    "                       demType=demType, \n",
    "                       outfile=dem, \n",
    "                       buffer=0.01,\n",
    "                       username='username', \n",
    "                       password='password')\n",
    "    demfiles_gamma[dem_id] = dem\n",
    "    print('-' * 10)"
   ]
  },
  {
   "cell_type": "markdown",
   "metadata": {},
   "source": [
    "<a id='demprep_snap'></a>\n",
    "## DEM preparation: SNAP\n",
    "\n",
    "documentation:\n",
    "- [pyroSAR.auxdata.dem_autoload](https://pyrosar.readthedocs.io/en/latest/pyroSAR.html#pyroSAR.auxdata.dem_autoload)\n",
    "- [spatialist.gdalwarp](https://spatialist.readthedocs.io/en/latest/spatialist.html#spatialist.auxil.gdalwarp)"
   ]
  },
  {
   "cell_type": "code",
   "execution_count": null,
   "metadata": {},
   "outputs": [],
   "source": [
    "from pyroSAR.auxdata import dem_autoload\n",
    "from spatialist import gdalwarp\n",
    "\n",
    "demfiles_snap = {}\n",
    "for demType in ['AW3D30', 'SRTM 1Sec HGT', 'SRTM 3Sec', 'TDX90m']:\n",
    "    dem_id = demType.replace(' ', '-')\n",
    "    dem_base = '{}_dem_snap_{}'.format(id.outname_base(), dem_id)\n",
    "    dem_dir = os.path.join(maindir, 'DEM')\n",
    "    if not os.path.isdir(dem_dir):\n",
    "        os.makedirs(dem_dir)\n",
    "    dem = os.path.join(dem_dir, dem_base + '.tif')\n",
    "    print(demType)\n",
    "    if not os.path.isfile(dem):\n",
    "        with id.bbox() as bbox:\n",
    "            # download all necessary DEM tiles and connect them in an in-memory VRT file\n",
    "            print('collecting DEM tiles')\n",
    "            vrt = dem_autoload(geometries=[bbox], \n",
    "                               demType=demType,\n",
    "                               vrt='/vsimem/{}.vrt'.format(dem_base), \n",
    "                               buffer=0.01,\n",
    "                               username='username', \n",
    "                               password='password')\n",
    "            # create a DEM GTiff file from the VRT\n",
    "            print('creating mosaic')\n",
    "            gdalwarp(vrt, dem, options={'format': 'GTiff'})\n",
    "    else:\n",
    "        print('outfile already exists')\n",
    "    demfiles_snap[dem_id] = dem\n",
    "    print('-' * 10)"
   ]
  },
  {
   "cell_type": "markdown",
   "metadata": {},
   "source": [
    "<a id='proc'></a>\n",
    "# Processing"
   ]
  },
  {
   "cell_type": "markdown",
   "metadata": {},
   "source": [
    "<a id='proc_gamma'></a>\n",
    "## Processing: GAMMA\n",
    "\n",
    "documentation:\n",
    "- [pyroSAR.gamma.geocode](https://pyrosar.readthedocs.io/en/latest/pyroSAR.html#pyroSAR.gamma.geocode)\n",
    "\n",
    "Upon import the *gamma* submodule searches for an environement variable *GAMMA_HOME*, which needs to point to the main Gamma installation directory."
   ]
  },
  {
   "cell_type": "code",
   "execution_count": null,
   "metadata": {},
   "outputs": [],
   "source": [
    "from pyroSAR import gamma\n",
    "\n",
    "# parallelize the Gamma commands\n",
    "os.environ['OMP_NUM_THREADS'] = '6'\n",
    "\n",
    "for dem_id, dem_file in demfiles_gamma.items():\n",
    "    scenedir = os.path.join(maindir, 'GAMMA', '{}_{}'.format(id.outname_base(), dem_id))\n",
    "    print(scenedir)\n",
    "    gamma.geocode(scene=id, \n",
    "                  dem=dem_file,\n",
    "                  tempdir=os.path.join(scenedir, 'process'), \n",
    "                  outdir=scenedir,\n",
    "                  targetres=90, \n",
    "                  scaling='db', \n",
    "                  export_extra=['inc_geo', 'ls_map_geo'])"
   ]
  },
  {
   "cell_type": "markdown",
   "metadata": {},
   "source": [
    "<a id='proc_snap'></a>\n",
    "## Processing: SNAP\n",
    "\n",
    "documentation:\n",
    "- [pyroSAR.snap.geocode](https://pyrosar.readthedocs.io/en/latest/pyroSAR.html#pyroSAR.snap.util.geocode)\n",
    "\n",
    "Upon import the *snap* submodule searches for the SNAP executables and relative to them for several sub-directories to identify the SNAP installation. For this, the SNAP *bin* sub-directory containing the binary executables needs to be contained in the PATH environment. This is best set in the .bashrc:\n",
    "```shell\n",
    "export PATH=$PATH:/path/to/snap/bin\n",
    "```"
   ]
  },
  {
   "cell_type": "code",
   "execution_count": null,
   "metadata": {
    "scrolled": true
   },
   "outputs": [],
   "source": [
    "from pyroSAR import snap\n",
    "\n",
    "for dem_id, dem_file in demfiles_snap.items():\n",
    "    scenedir = os.path.join(maindir, 'SNAP', '{}_{}'.format(id.outname_base(), dem_id))\n",
    "    correct_egm = False if dem_id == 'TDX90m' else True\n",
    "    print(scenedir.replace(maindir, '.'))\n",
    "    snap.geocode(infile=id,\n",
    "                 externalDEMFile=dem_file,\n",
    "                 externalDEMApplyEGM=correct_egm,\n",
    "                 outdir=scenedir, tr=90, scaling='db',\n",
    "                 export_extra=['incidenceAngleFromEllipsoid',\n",
    "                               'localIncidenceAngle',\n",
    "                               'projectedLocalIncidenceAngle',\n",
    "                               'DEM'])"
   ]
  },
  {
   "cell_type": "markdown",
   "metadata": {},
   "source": [
    "<a id='corine'></a>\n",
    "# Prepare CORINE Land Cover product\n",
    "\n",
    "The product cannot be downloaded automatically but is available [here](https://land.copernicus.eu/pan-european/corine-land-cover/clc2018?tab=download) after registration.  \n",
    "The product is reprojected and resampled to the exact size of respective SAR products for easier analysis."
   ]
  },
  {
   "cell_type": "code",
   "execution_count": null,
   "metadata": {},
   "outputs": [],
   "source": [
    "import os\n",
    "from spatialist import Raster, gdalwarp\n",
    "from spatialist.ancillary import finder\n",
    "\n",
    "clc = os.path.join(maindir, 'CORINE', 'clc2018_clc2018_V2018.20b2.tif')\n",
    "\n",
    "patterns = {'GAMMA': 'VV_grd_mli_norm_geo_db.tif',\n",
    "            'SNAP': 'VV_tnr_bnr_Orb_Cal_ML_TF_TC_dB.tif'}\n",
    "\n",
    "for processor, pattern in patterns.items():\n",
    "    sarfiles = finder(os.path.join(maindir, processor), ['*{}'.format(pattern)])\n",
    "    \n",
    "    for ref in sarfiles:\n",
    "        clc_sub = ref.replace(pattern, 'clc2018_V2018.20b2.tif')\n",
    "        print(clc_sub.replace(maindir, '.'))\n",
    "        \n",
    "        if not os.path.isfile(clc_sub):\n",
    "            with Raster(ref) as ras:\n",
    "                ref_crs = ras.projection\n",
    "                xres, yres = ras.res\n",
    "                with ras.bbox() as box:\n",
    "                    ref_ext = box.extent   \n",
    "            \n",
    "            outputBounds = (ref_ext['xmin'], ref_ext['ymin'], ref_ext['xmax'], ref_ext['ymax'])\n",
    "            \n",
    "            gdalwarp_opt = {'format': 'GTiff', 'outputBounds': outputBounds, 'multithread': True,\n",
    "                            'xRes': xres, 'yRes': yres, 'dstSRS': ref_crs, 'resampleAlg': 'mode'}\n",
    "            \n",
    "            gdalwarp(src=clc, dst=clc_sub, options=gdalwarp_opt)\n",
    "        else:\n",
    "            print('outfile already exists')\n",
    "        print('-' * 10)"
   ]
  },
  {
   "cell_type": "markdown",
   "metadata": {},
   "source": [
    "<a id='sar_inc'></a>\n",
    "# Comparison of backscatter with local angle of incidence"
   ]
  },
  {
   "cell_type": "markdown",
   "metadata": {},
   "source": [
    "<a id='sar_inc_gamma'></a>\n",
    "## GAMMA"
   ]
  },
  {
   "cell_type": "code",
   "execution_count": null,
   "metadata": {
    "scrolled": false
   },
   "outputs": [],
   "source": [
    "import numpy as np\n",
    "from S1_ARD import sar_vs_inc\n",
    "from matplotlib import pyplot as plt\n",
    "import matplotlib\n",
    "\n",
    "%matplotlib inline\n",
    "matplotlib.rcParams['figure.figsize'] = (13, 13)\n",
    "matplotlib.rcParams['font.size'] = 12\n",
    "plt.subplots_adjust(wspace=0.3, hspace=0.3)\n",
    "\n",
    "i = 1\n",
    "for dem_id in demfiles_gamma.keys():\n",
    "    print(dem_id)\n",
    "    scenedir = os.path.join(maindir, 'GAMMA', '{}_{}'.format(id.outname_base(), dem_id))\n",
    "    sar = os.path.join(scenedir, '{}_VV_grd_mli_norm_geo_db.tif'.format(id.outname_base()))\n",
    "    inc = os.path.join(scenedir, '{}_inc_geo.tif'.format(id.outname_base()))\n",
    "    clc = os.path.join(scenedir, '{}_clc2018_V2018.20b2.tif'.format(id.outname_base()))\n",
    "    \n",
    "    with Raster(clc) as ras:\n",
    "        clc_mat = ras.matrix()\n",
    "    \n",
    "    # 311: Broad-leaved forest\n",
    "    # 312: Coniferous forest\n",
    "    # 313: Mixed forest\n",
    "    clc_mask = (clc_mat==311) | (clc_mat==312) | (clc_mat==313)\n",
    "    \n",
    "    with Raster(sar) as ras:\n",
    "        sar_mat = ras.matrix()\n",
    "    \n",
    "    with Raster(inc) as ras:\n",
    "        inc_mat = ras.matrix()\n",
    "    plt.subplot(2, 2, i)\n",
    "    \n",
    "    # alternatively plot the masked backscatter\n",
    "#     sar_mat[sar_mat == -99] = np.nan\n",
    "#     sar_mat[~clc_mask] = np.nan\n",
    "#     plt.imshow(sar_mat)\n",
    "    \n",
    "    sar_vs_inc(sar_mat, inc_mat, nsamples=5000, title=dem_id, \n",
    "               xlabel='Local Incident Angle [deg]', \n",
    "               ylabel=r'$\\gamma^0$ [dB]',\n",
    "               ymin=-30, ymax=10,\n",
    "               mask=clc_mask,\n",
    "               rad2deg=True)\n",
    "    i += 1\n",
    "plt.show()"
   ]
  },
  {
   "cell_type": "markdown",
   "metadata": {},
   "source": [
    "<a id='sar_inc_snap'></a>\n",
    "## SNAP"
   ]
  },
  {
   "cell_type": "code",
   "execution_count": null,
   "metadata": {},
   "outputs": [],
   "source": [
    "import numpy as np\n",
    "from S1_ARD import sar_vs_inc\n",
    "from matplotlib import pyplot as plt\n",
    "import matplotlib\n",
    "%matplotlib inline\n",
    "matplotlib.rcParams['figure.figsize'] = (13, 13)\n",
    "matplotlib.rcParams['font.size'] = 12\n",
    "plt.subplots_adjust(wspace=0.3, hspace=0.3)\n",
    "\n",
    "i = 1\n",
    "for dem_id in demfiles_gamma.keys():\n",
    "    print(dem_id)\n",
    "    scenedir = os.path.join(maindir, 'SNAP', '{}_{}'.format(id.outname_base(), dem_id))\n",
    "    sar = os.path.join(scenedir, '{}_VV_tnr_bnr_Orb_Cal_ML_TF_TC_dB.tif'.format(id.outname_base()))\n",
    "    inc = os.path.join(scenedir, '{}_localIncidenceAngle.tif'.format(id.outname_base()))\n",
    "    clc = os.path.join(scenedir, '{}_clc2018_V2018.20b2.tif'.format(id.outname_base()))\n",
    "    \n",
    "    with Raster(clc) as ras:\n",
    "        clc_mat = ras.matrix()\n",
    "    \n",
    "    # 311: Broad-leaved forest\n",
    "    # 312: Coniferous forest\n",
    "    # 313: Mixed forest\n",
    "    clc_mask = (clc_mat==311) | (clc_mat==312) | (clc_mat==313)\n",
    "    \n",
    "    with Raster(sar) as ras:\n",
    "        sar_mat = ras.matrix()\n",
    "    \n",
    "    with Raster(inc) as ras:\n",
    "        inc_mat = ras.matrix()\n",
    "    plt.subplot(2, 2, i)\n",
    "    \n",
    "    # alternatively plot the masked backscatter\n",
    "#     sar_mat[sar_mat == -99] = np.nan\n",
    "#     sar_mat[~clc_mask] = np.nan\n",
    "#     plt.imshow(sar_mat)\n",
    "    \n",
    "    sar_vs_inc(sar_mat, inc_mat, nsamples=5000, title=dem_id, \n",
    "               xlabel='Local Incident Angle [deg]', \n",
    "               ylabel=r'$\\gamma^0$ [dB]',\n",
    "               ymin=-30, ymax=10,\n",
    "               mask=clc_mask,\n",
    "               rad2deg=False)\n",
    "    i += 1\n",
    "plt.show()"
   ]
  },
  {
   "cell_type": "markdown",
   "metadata": {},
   "source": [
    "<a id='dem_compare'></a>\n",
    "# DEM comparison"
   ]
  },
  {
   "cell_type": "markdown",
   "metadata": {},
   "source": [
    "<a id='slope_aspect'></a>\n",
    "## Compute Slope and Aspect\n",
    "\n",
    "The units of spatial and height resolution must be the same for correct slope computation. Usually the z-factor is used for estimating a conversion factor, yet using one factor for both x and y is inaccurate since the distance in meters of one degree North-South is constant but varies for a degree West-East.  \n",
    "The height units for all DEMs used here are in meters, the spatial reference system is WGS84 LatLon. The function [spatialist.haversine](https://spatialist.readthedocs.io/en/latest/spatialist.html#spatialist.auxil.haversine) is used by function dem_degree2meter to estimate the resolution of the DEM's center pixel."
   ]
  },
  {
   "cell_type": "code",
   "execution_count": null,
   "metadata": {},
   "outputs": [],
   "source": [
    "from spatialist import Raster\n",
    "from S1_ARD.util import dem_degree2meter, dem_slope, dem_aspect\n",
    "\n",
    "for dem_id, dem_file in demfiles_snap.items():\n",
    "    slope_file = dem_file.replace(dem_id, dem_id + '_slope')\n",
    "    aspect_file = dem_file.replace(dem_id, dem_id + '_aspect')\n",
    "    print(dem_id)\n",
    "    if not os.path.isfile(slope_file):\n",
    "        print('creating {}'.format(slope_file))\n",
    "        # compute DEM resolution in meters\n",
    "        xres_m, yres_m = dem_degree2meter(dem_file)\n",
    "        \n",
    "        print('x resolution: {:.8f}'.format(xres_m))\n",
    "        print('y resolution: {:.8f}'.format(yres_m))\n",
    "        \n",
    "        with Raster(dem_file) as ras:\n",
    "            dem = ras.matrix()\n",
    "            slope = dem_slope(dem, xres_m, yres_m)\n",
    "            ras.assign(slope, 0)\n",
    "            ras.write(slope_file, format='GTiff', dtype='float32')\n",
    "    \n",
    "    if not os.path.isfile(aspect_file):\n",
    "        print('creating {}'.format(aspect_file))\n",
    "        with Raster(dem_file) as ras:\n",
    "            dem = ras.matrix()\n",
    "            aspect = dem_aspect(dem)\n",
    "            ras.assign(aspect, 0)\n",
    "            ras.write(aspect_file, format='GTiff', dtype='float32')\n",
    "    print('-' * 10)"
   ]
  },
  {
   "cell_type": "markdown",
   "metadata": {},
   "source": [
    "<a id='dem_distribution'></a>\n",
    "# Analysis of DEM Slope-Aspect distribution"
   ]
  },
  {
   "cell_type": "code",
   "execution_count": null,
   "metadata": {},
   "outputs": [],
   "source": [
    "import matplotlib\n",
    "import matplotlib.pyplot as plt\n",
    "from S1_ARD import dem_distribution\n",
    "\n",
    "%matplotlib inline\n",
    "matplotlib.rcParams['figure.figsize'] = (13, 13)\n",
    "matplotlib.rcParams['font.size'] = 12\n",
    "matplotlib.rcParams['axes.titlepad'] = 20\n",
    "plt.subplots_adjust(wspace=0.3, hspace=0.3)\n",
    "\n",
    "incidence = id.meta['incidence']\n",
    "heading = id.meta['heading']\n",
    "\n",
    "print('heading: {}'.format(heading))\n",
    "print('incidence: {}'.format(incidence))\n",
    "\n",
    "i = 1\n",
    "for dem_id, dem_file in demfiles_snap.items():\n",
    "    print(dem_id)\n",
    "    slope_file = dem_file.replace(dem_id, dem_id + '_slope')\n",
    "    aspect_file = dem_file.replace(dem_id, dem_id + '_aspect')\n",
    "    \n",
    "    with Raster(slope_file) as ras:\n",
    "        slope = ras.matrix()\n",
    "    \n",
    "    with Raster(aspect_file) as ras:\n",
    "        aspect = ras.matrix()\n",
    "    \n",
    "    plt.subplot(2, 2, i, projection='polar')\n",
    "    dem_distribution(slope, aspect, heading, incidence, nsamples=5000, title=dem_id)\n",
    "    i += 1\n",
    "plt.show()"
   ]
  },
  {
   "cell_type": "markdown",
   "metadata": {},
   "source": [
    "<a id='dem_diff'></a>\n",
    "## plot the absolute difference of all DEM combinations\n",
    "### stack the four DEMs into a 3D array"
   ]
  },
  {
   "cell_type": "code",
   "execution_count": null,
   "metadata": {
    "scrolled": false
   },
   "outputs": [],
   "source": [
    "import numpy as np\n",
    "from spatialist import Raster\n",
    "import matplotlib\n",
    "import matplotlib.pyplot as plt\n",
    "from matplotlib.colors import LogNorm\n",
    "from mpl_toolkits.axes_grid1 import make_axes_locatable\n",
    "\n",
    "demfiles_snap_proc = {}\n",
    "for dem_id in demfiles_snap.keys():\n",
    "    scenedir = os.path.join(maindir, 'SNAP', '{}_{}'.format(id.outname_base(), dem_id))\n",
    "    dem = os.path.join(scenedir, '{}_DEM.tif'.format(id.outname_base()))\n",
    "    demfiles_snap_proc[dem_id] = dem\n",
    "\n",
    "with Raster(list(demfiles_snap_proc.values())) as ras:\n",
    "    demstack = np.empty(ras.dim)\n",
    "    for i in range(ras.bands):\n",
    "        print(list(demfiles_snap.keys())[i])\n",
    "        demstack[:,:,i] = ras.matrix(i+1)"
   ]
  },
  {
   "cell_type": "markdown",
   "metadata": {},
   "source": [
    "### plot the absolute difference"
   ]
  },
  {
   "cell_type": "code",
   "execution_count": null,
   "metadata": {
    "scrolled": false
   },
   "outputs": [],
   "source": [
    "%matplotlib notebook\n",
    "matplotlib.rcParams['figure.figsize'] = (9, 30)\n",
    "matplotlib.rcParams['font.size'] = 12\n",
    "\n",
    "comp_tuples = [(0, 1), # AW3D30,        SRTM-1Sec-HGT\n",
    "               (0, 2), # AW3D30,        SRTM-3Sec\n",
    "               (0, 3), # AW3D30,        TDX90m\n",
    "               (1, 2), # SRTM-1Sec-HGT, SRTM-3Sec\n",
    "               (1, 3), # SRTM-1Sec-HGT, TDX90m\n",
    "               (2, 3)] # SRTM-3Sec,     TDX90m\n",
    "\n",
    "fig, axes = plt.subplots(6, 1, num='absolute height difference [m]')\n",
    "\n",
    "dem_keys = list(demfiles_snap_proc.keys())\n",
    "\n",
    "i = 0\n",
    "for dem1, dem2 in comp_tuples:\n",
    "    \n",
    "    diff = np.abs(demstack[:,:,dem1] - demstack[:,:,dem2])\n",
    "    dem1_id = dem_keys[dem1]\n",
    "    dem2_id = dem_keys[dem2]\n",
    "    ax = axes[i]\n",
    "    ax.set_title('abs({} - {})'.format(dem1_id, dem2_id))\n",
    "    \n",
    "    im = ax.imshow(diff, norm=LogNorm(), cmap='plasma', vmin=0.1, vmax=100.)\n",
    "    \n",
    "    divider = make_axes_locatable(ax)\n",
    "    cax = divider.append_axes('right', size='5%', pad=0.05)\n",
    "    cbar = fig.colorbar(ax.images[0], cax=cax)\n",
    "    cbar.ax.minorticks_off()\n",
    "    i += 1\n",
    "plt.tight_layout()\n",
    "plt.show()"
   ]
  },
  {
   "cell_type": "markdown",
   "metadata": {},
   "source": [
    "<a id='todo'></a>\n",
    "# TODO\n",
    "\n",
    "- SNAP processing\n",
    "  * [x] enable writing ancillary products\n",
    "- GAMMA processing\n",
    "  * do processing in very steep terrain with different scene (negative incidence angles?)\n",
    "- DEM comparison\n",
    "  * [x] implementation of functions to derive aspect and slope for better visualization\n",
    "  * [x] visualize artifacts in e.g. steep terrain\n",
    "  * [x] visualize height bias from e.g. lack of ground reference points in photogrammetric DEMs\n",
    "  * [x] finish implementation of Cristian's plotting function\n",
    "- comparison SNAP vs. Gamma\n",
    "  * compare ancillary products\n",
    "    + [x] DEM after EGM correction\n",
    "    + [ ] local incident angle\n",
    "    + [ ] SAR backscatter before and after normalization\n",
    "    + [ ] comparability in flat terrain\n",
    "- comparison ascending vs. descending\n",
    "  * [ ] select and process scene from descending orbit\n"
   ]
  },
  {
   "cell_type": "markdown",
   "metadata": {},
   "source": [
    "# Download additional SAR data\n",
    "## write the search box from the Copernicus Hub to a file"
   ]
  },
  {
   "cell_type": "code",
   "execution_count": null,
   "metadata": {},
   "outputs": [],
   "source": [
    "import os\n",
    "from S1_ARD.util import wkt2shp\n",
    "\n",
    "name_shp = os.path.join(maindir, 'testsite_alps.shp')\n",
    "\n",
    "srs = 4326\n",
    "\n",
    "wkt = 'POLYGON((' \\\n",
    "      '9.302927378921362 46.20802310382879,' \\\n",
    "      '10.63255440957775 46.20802310382879,' \\\n",
    "      '10.63255440957775 47.156898692795124,' \\\n",
    "      '9.302927378921362 47.156898692795124,' \\\n",
    "      '9.302927378921362 46.20802310382879))'\n",
    "\n",
    "if not os.path.isfile(name_shp):\n",
    "    wkt2shp(wkt, srs, name_shp)"
   ]
  },
  {
   "cell_type": "markdown",
   "metadata": {},
   "source": [
    "## search Copernicus Hub for Sentinel-1 scenes\n",
    "Eight scenes overlapping with the seach box acquired between Aug. 25 and Aug. 30 2018 currently exist. Two for each combination S1A + S1B, Ascending + Descending. All scenes will be processes and the two scenes acquired directly after each other will be mosaiced. One of the scenes was already downloaded for the earlier analyses.  \n",
    "For bulk download the [esa_sentinel](https://github.com/johntruckenbrodt/esa_sentinel) tool needs to be installed:  \n",
    "```shell\n",
    "python3 -m pip install git+https://github.com/johntruckenbrodt/esa_sentinel.git\n",
    "```"
   ]
  },
  {
   "cell_type": "code",
   "execution_count": null,
   "metadata": {},
   "outputs": [],
   "source": [
    "import sentinel_api as api\n",
    "\n",
    "# use username and password for ESA DATA Hub authentication\n",
    "username = 'username'\n",
    "password = 'password'\n",
    "\n",
    "s1 = api.SentinelDownloader(username, password, api_url='https://scihub.copernicus.eu/apihub/')\n",
    "\n",
    "s1.set_download_dir(maindir)\n",
    "\n",
    "# load geometries from shapefile\n",
    "s1.load_sites(name_shp)\n",
    "\n",
    "# search for scenes with some restrictions (e.g., minimum overlap 1%)\n",
    "for platform in ['S1A*', 'S1B*']:\n",
    "    s1.search(platform, min_overlap=0.01, start_date='2018-08-25', end_date='2018-08-30',\n",
    "              date_type='beginPosition', productType='GRD',\n",
    "              sensoroperationalmode='IW')\n",
    "\n",
    "s1.print_scenes()"
   ]
  },
  {
   "cell_type": "markdown",
   "metadata": {},
   "source": [
    "## download the scenes"
   ]
  },
  {
   "cell_type": "code",
   "execution_count": null,
   "metadata": {},
   "outputs": [],
   "source": [
    "s1.download_all()"
   ]
  }
 ],
 "metadata": {
  "kernelspec": {
   "display_name": "Python 3",
   "language": "python",
   "name": "python3"
  },
  "language_info": {
   "codemirror_mode": {
    "name": "ipython",
    "version": 3
   },
   "file_extension": ".py",
   "mimetype": "text/x-python",
   "name": "python",
   "nbconvert_exporter": "python",
   "pygments_lexer": "ipython3",
   "version": "3.6.7"
  }
 },
 "nbformat": 4,
 "nbformat_minor": 1
}
