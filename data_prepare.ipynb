{
 "cells": [
  {
   "cell_type": "markdown",
   "metadata": {
    "collapsed": true
   },
   "source": [
    "# install the current spatialist and pyroSAR development branch\n",
    "\n",
    "```shell\n",
    "sudo apt-get install git\n",
    "python -m pip install git+https://github.com/johntruckenbrodt/spatialist.git@master\n",
    "python -m pip install git+https://github.com/johntruckenbrodt/pyroSAR.git@feature/gamma_export_demproducts\n",
    "```"
   ]
  },
  {
   "cell_type": "markdown",
   "metadata": {},
   "source": [
    "# download test data\n",
    "\n",
    "```shell\n",
    "wget -c -T120 --no-check-certificate --user=\"username\" --password=\"password\" \\\n",
    "-O S1A_IW_GRDH_1SDV_20180829T170656_20180829T170721_023464_028DE0_F7BD.zip \\\n",
    "\"https://scihub.copernicus.eu/dhus/odata/v1/Products('1d498b6b-f890-4c3f-a30e-877338e9f2fe')/\\$value\"\n",
    "```"
   ]
  },
  {
   "cell_type": "markdown",
   "metadata": {},
   "source": [
    "# prepare several DEM files in Gamma format for a Sentinel-1 scene\n",
    "\n",
    "documentation:\n",
    "- [pyroSAR.identify](https://pyrosar.readthedocs.io/en/latest/pyroSAR.html#pyroSAR.drivers.identify)\n",
    "- function dem_autocreate is not documented on readthedocs yet, but a docstring can be called in Python: `help(dem_autocreate)`\n",
    "- the download of TanDEM-X 90m DEMs requires a registration, see [here](https://geoservice.dlr.de/web/dataguide/tdm90) for details; once registered the credentials can be passed to function dem_autocreate; for the other DEM options they are ignored"
   ]
  },
  {
   "cell_type": "code",
   "execution_count": null,
   "metadata": {},
   "outputs": [],
   "source": [
    "import os\n",
    "from pyroSAR import identify\n",
    "from pyroSAR.gamma.srtm import dem_autocreate\n",
    "\n",
    "filename = 'S1A_IW_GRDH_1SDV_20180829T170656_20180829T170721_023464_028DE0_F7BD.zip'\n",
    "\n",
    "outdir = ''\n",
    "\n",
    "id = identify(filename)\n",
    "\n",
    "demfiles = {}\n",
    "for demType in ['AW3D30', 'SRTM 1Sec HGT', 'SRTM 3Sec', 'TDX90m']:\n",
    "    dem_id = demType.replace(' ', '-')\n",
    "    dem_base = 'demfile_gamma_{}'.format(dem_id)\n",
    "    dem = os.path.join(outdir, dem_base)\n",
    "    print(demType)\n",
    "    with id.bbox() as bbox:\n",
    "        dem_autocreate(geometry=bbox, demType=demType, outfile=dem, \n",
    "                       username='username', password='password')\n",
    "    demfiles[dem_id] = dem"
   ]
  },
  {
   "cell_type": "markdown",
   "metadata": {},
   "source": [
    "# process the scene with the different DEMs in Gamma\n",
    "\n",
    "documentation:\n",
    "- [pyroSAR.gamma.geocode](https://pyrosar.readthedocs.io/en/latest/pyroSAR.html#pyroSAR.gamma.geocode)"
   ]
  },
  {
   "cell_type": "code",
   "execution_count": null,
   "metadata": {},
   "outputs": [],
   "source": [
    "from pyroSAR.gamma import geocode\n",
    "\n",
    "# parallelize the Gamma commands\n",
    "os.environ['OMP_NUM_THREADS'] = '6'\n",
    "\n",
    "for dem_id, dem_file in demfiles.items():\n",
    "    scenedir = os.path.join(outdir, '{}_{}'.format(id.outname_base(), dem_id))\n",
    "    geocode(scene=id, dem=dem_file,\n",
    "            tempdir=os.path.join(scenedir, 'process'), outdir=scenedir,\n",
    "            targetres=90, scaling='db')"
   ]
  },
  {
   "cell_type": "markdown",
   "metadata": {},
   "source": [
    "# compare backscatter with local incidence angle"
   ]
  },
  {
   "cell_type": "code",
   "execution_count": null,
   "metadata": {},
   "outputs": [],
   "source": [
    "from S1_ARD import sar_vs_inc\n",
    "from matplotlib import pyplot as plt\n",
    "\n",
    "i = 1\n",
    "for dem_id in demfiles.keys():\n",
    "    scenedir = os.path.join(maindir, '{}_{}'.format(id.outname_base(), dem_id))\n",
    "    sar = os.path.join(scenedir, '{}_VV_grd_mli_norm_geo_db.tif'.format(id.outname_base()))\n",
    "    inc = os.path.join(scenedir, '{}_inc_geo.tif'.format(id.outname_base()))\n",
    "    print(sar, os.path.isfile(sar))\n",
    "    print(inc, os.path.isfile(inc))\n",
    "    plt.subplot(2, 2, i)\n",
    "    sar_vs_inc(sar, inc, nsamples=5000, title=dem_id, xlabel='incidence angle [deg]', ylabel='gamma naught [dB]')\n",
    "    i += 1\n",
    "plt.show()"
   ]
  }
 ],
 "metadata": {
  "kernelspec": {
   "display_name": "Python 3",
   "language": "python",
   "name": "python3"
  },
  "language_info": {
   "codemirror_mode": {
    "name": "ipython",
    "version": 3
   },
   "file_extension": ".py",
   "mimetype": "text/x-python",
   "name": "python",
   "nbconvert_exporter": "python",
   "pygments_lexer": "ipython3",
   "version": "3.6.7"
  }
 },
 "nbformat": 4,
 "nbformat_minor": 1
}
